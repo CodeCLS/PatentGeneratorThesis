{
 "cells": [
  {
   "cell_type": "code",
   "execution_count": 7,
   "id": "595d0e14",
   "metadata": {},
   "outputs": [
    {
     "data": {
      "text/plain": [
       "<module 'PatentTextFormatter' from 'c:\\\\Users\\\\Caleb\\\\Documents\\\\LLM Patent Claim Generator Thesis\\\\PatentTextFormatter.py'>"
      ]
     },
     "execution_count": 7,
     "metadata": {},
     "output_type": "execute_result"
    }
   ],
   "source": [
    "%load_ext autoreload\n",
    "%autoreload 2\n",
    "import sys, importlib\n",
    "sys.modules.pop('PatentTextFormatter', None)\n",
    "importlib.invalidate_caches()\n",
    "\n",
    "import PatentTextFormatter as PTF   # re-import fresh\n",
    "importlib.reload(PTF)               # ensure reload\n"
   ]
  },
  {
   "cell_type": "code",
   "execution_count": null,
   "id": "78df813c",
   "metadata": {},
   "outputs": [
    {
     "data": {
      "text/plain": [
       "<module 'PatentTextFormatter' from 'c:\\\\Users\\\\Caleb\\\\Documents\\\\LLM Patent Claim Generator Thesis\\\\PatentTextFormatter.py'>"
      ]
     },
     "execution_count": 13,
     "metadata": {},
     "output_type": "execute_result"
    }
   ],
   "source": []
  },
  {
   "cell_type": "code",
   "execution_count": 4,
   "id": "22e35ab1",
   "metadata": {},
   "outputs": [
    {
     "data": {
      "text/plain": [
       "<module 'PatentTextFormatter' from 'c:\\\\Users\\\\Caleb\\\\Documents\\\\LLM Patent Claim Generator Thesis\\\\PatentTextFormatter.py'>"
      ]
     },
     "execution_count": 4,
     "metadata": {},
     "output_type": "execute_result"
    }
   ],
   "source": [
    "import PatentTextFormatter as PTF\n",
    "import importlib\n",
    "\n",
    "import os\n",
    "import re\n",
    "import json\n",
    "from typing import List, Dict, Any\n",
    "import spacy\n",
    "\n",
    "import anthropic\n",
    "from dotenv import load_dotenv\n",
    "from langsmith import traceable, Client as LSClient\n",
    "from langsmith.wrappers import wrap_anthropic\n",
    "client = wrap_anthropic(anthropic.Anthropic())\n",
    "nlp = spacy.load(\"en_core_web_sm\")\n",
    "importlib.reload(PTF)\n"
   ]
  },
  {
   "cell_type": "markdown",
   "id": "d37b43e4",
   "metadata": {},
   "source": []
  },
  {
   "cell_type": "code",
   "execution_count": 120,
   "id": "fe0d01b2",
   "metadata": {},
   "outputs": [
    {
     "ename": "TypeError",
     "evalue": "PatentTextFormatter.__init__() takes 3 positional arguments but 4 were given",
     "output_type": "error",
     "traceback": [
      "\u001b[31m---------------------------------------------------------------------------\u001b[39m",
      "\u001b[31mTypeError\u001b[39m                                 Traceback (most recent call last)",
      "\u001b[36mCell\u001b[39m\u001b[36m \u001b[39m\u001b[32mIn[120]\u001b[39m\u001b[32m, line 1\u001b[39m\n\u001b[32m----> \u001b[39m\u001b[32m1\u001b[39m ptf = \u001b[43mPTF\u001b[49m\u001b[43m.\u001b[49m\u001b[43mPatentTextFormatter\u001b[49m\u001b[43m(\u001b[49m\u001b[33;43m\"\u001b[39;49m\u001b[33;43mHello I am a nice Person living in Berlin and have nothing todo but I do study at the TU Berlin in Information Systems which is a lovely subject for people all over the world\u001b[39;49m\u001b[33;43m\"\u001b[39;49m\u001b[43m,\u001b[49m\u001b[43mnlp\u001b[49m\u001b[43m,\u001b[49m\u001b[43mclient\u001b[49m\u001b[43m)\u001b[49m\n\u001b[32m      2\u001b[39m \u001b[38;5;28mprint\u001b[39m(ptf.shorten_sentences())\n",
      "\u001b[31mTypeError\u001b[39m: PatentTextFormatter.__init__() takes 3 positional arguments but 4 were given"
     ]
    }
   ],
   "source": [
    "ptf = PTF.PatentTextFormatter(\"Hello I am a nice Person living in Berlin and have nothing todo but I do study at the TU Berlin in Information Systems which is a lovely subject for people all over the world\",nlp,client)\n",
    "print(ptf.shorten_sentences())"
   ]
  },
  {
   "cell_type": "code",
   "execution_count": 10,
   "id": "28ec834c",
   "metadata": {},
   "outputs": [
    {
     "name": "stdout",
     "output_type": "stream",
     "text": [
      "['relates to a [DISPLAY_DEVICE].', 'The [DISPLAY_DEVICE] is for appreciation regarding pseudo space.', '[PSEUDO_SPACE] includes space in the water.', '[PSEUDO_SPACE] includes space in the air.', 'The [DISPLAY_DEVICE] is for appreciation of creatures.', 'The [DISPLAY_DEVICE] is for appreciation of objects.', 'Creatures and objects float in the [PSEUDO_SPACE].', 'Creatures and objects are represented by [FISH].', 'Creatures and objects are represented by [SUBMARINE].', 'Creatures and objects are represented by [SPACESHIP].', 'Creatures and objects are represented by [AIRSHIP].', 'Creatures and objects are represented by [BUTTERFLY].', 'Creatures and objects are represented by [BIRD].', 'Interiors with [WATER] motifs are provided at homes.', 'Interiors with [PSEUDO_SPACE] motifs are provided at homes.', 'Interiors with motifs are provided in offices.', 'These [INTERIOR]s refresh feelings of residents.', 'These [INTERIOR]s serve a purpose of refreshing feelings of occupants indoors.', 'Aquariums have seaweeds or tropical [FISH] in a [WATER] tank.', 'Aquariums are used at home as a display for visual effects.', '[AQUARIUM]s are used at shops.', 'Aquariums are used as a [DISPLAY_DEVICE].', '[AQUARIUM] are used for visual effects.', 'In [AQUARIUM] aquatic animals such as [FISH] are kept.', '[AQUARIUM] are [WATER_TANK] in which aquatic plants are kept.', '[AQUATIC_PLANTS] such as [SEAWEED] are kept in [AQUARIUM].', 'Living conditions include foods, [WATER] temperature.', 'Maintaining [LIVING_CONDITIONS] should accompany labor cost.', 'Maintaining [LIVING_CONDITIONS] should accompany maintenance cost.', 'Maintaining [LIVING_CONDITIONS] should accompany the like.', 'The air bubble generates water flow in a [WATER_TANK].', 'Environmental maintenance such as temperature maintenance are easy.', 'A [DISPLAY_DEVICE] is proposed to reduce such labor.', 'The [DISPLAY_DEVICE] is provided with pseudo models of [FISH].', 'Aquatic animals include [FISH] models and the like.', 'The [AIR_BUBBLE] is generated from a [VENTILATION_MEMBER].', 'The [VENTILATION_MEMBER] is installed at the [WATER_TANK.BottomWall] of a [WATER_TANK].', 'The [DISPLAY_DEVICE] functions as a pseudo [AQUARIUM].', 'Daily feeding is not required in the [DISPLAY_DEVICE].', 'Pseudo creature models are floating in the [WATER_TANK].', 'Creature models behave unnaturally since [AIR_BUBBLE] adheres to them.', 'The [DISPLAY_DEVICE] generates [WATER_FLOW] in a [WATER_TANK].', 'The [DISPLAY_DEVICE] directly generates [AIR_BUBBLE] in the [WATER_TANK].', '[AIR_BUBBLE] adheres to the [PSEUDO_CREATURE_MODEL].', 'When the [PSEUDO_CREATURE_MODEL] go in domains.', 'They show unnatural behavior, lying down.', 'In peripheral domains, [AIR_BUBBLE] near the [VENTILATION_MEMBER] rises.', 'The [PSEUDO_CREATURE_MODEL] are pushed upward.', 'They are pushed near the [WATER.Surface] by [AIR_BUBBLE].', 'The same is applied when [PSEUDO_CREATURE_MODEL] are replaced.', 'Models such as [SUBMARINE] other than [FISH] are used.', 'This [WATER_TANK] is not suitable for a [DISPLAY_DEVICE].', 'The [DISPLAY_DEVICE] expresses a [PSEUDO_SPACE] other than underwater space.', 'The object is to provide a [WATER_TANK] for appreciation.', 'The [WATER_TANK] does not cause imbalance of [PSEUDO_CREATURE_MODEL] by [AIR_BUBBLE] adhesion.', 'The [WATER_TANK] prevents lying down of [PSEUDO_CREATURE_MODEL] in the vicinity of a [WATER.Surface].', 'Models show more natural behavior in the [WATER_TANK].', 'The [WATER_TANK] prevents sudden rising of [PSEUDO_CREATURE_MODEL].', '[PSEUDO_CREATURE_MODEL] are in the vicinity of [VENTILATION_MEMBER].', 'A [WATER_TANK].', 'The [WATER_TANK] is for appreciation.', 'The [WATER_TANK] is capable of expressing space.', 'The [PSEUDO_SPACE] is other than underwater space.', 'A [DISPLAY_DEVICE] is provided.', 'The [DISPLAY_DEVICE] is for appreciation.', 'The [DISPLAY_DEVICE] is capable of expressing [PSEUDO_SPACE].', 'The [PSEUDO_SPACE] is other than underwater space.']\n",
      "30\n",
      "64\n",
      "43\n",
      "41\n",
      "54\n",
      "52\n",
      "50\n",
      "48\n",
      "53\n",
      "53\n",
      "51\n",
      "53\n",
      "48\n",
      "52\n",
      "59\n",
      "46\n",
      "48\n",
      "78\n",
      "61\n",
      "59\n",
      "30\n",
      "41\n",
      "39\n",
      "54\n",
      "61\n",
      "58\n",
      "53\n",
      "60\n",
      "66\n",
      "58\n",
      "54\n",
      "67\n",
      "52\n",
      "62\n",
      "51\n",
      "58\n",
      "87\n",
      "54\n",
      "54\n",
      "56\n",
      "70\n",
      "62\n",
      "73\n",
      "52\n",
      "47\n",
      "41\n",
      "72\n",
      "46\n",
      "57\n",
      "62\n",
      "54\n",
      "57\n",
      "76\n",
      "57\n",
      "94\n",
      "101\n",
      "54\n",
      "67\n",
      "68\n",
      "15\n",
      "37\n",
      "48\n",
      "50\n",
      "31\n",
      "41\n",
      "61\n",
      "50\n"
     ]
    }
   ],
   "source": [
    "ptf = PTF.PatentTextFormatter(nlp,client)\n",
    "result = ptf.shorten_sentences(\"\"\" \n",
    "The present invention relates to a display device for appreciation regarding pseudo space such as\n",
    "in the water or in the air and regarding creatures and/or\n",
    "objects which float in the air represented by fish, submarines, spaceships, airships, butterflies, birds, and the\n",
    "like.] Recently, for a purpose of refreshing feelings\n",
    "of residents and the like indoors, interiors with motifs in\n",
    "the water or in the air are provided at homes or in the\n",
    "offices. As such interiors, examples of interiors with motifs in the water include aquariums in which seaweeds\n",
    "or tropical fish are put in a simple water tank. Recently,\n",
    "aquariums in which aquatic animals such as tropical fish\n",
    "and the like or aquatic plants such as seaweeds and the\n",
    "like are kept in a water tank are used not only at home\n",
    "but also at shops and the like as a display for visual effects. In order to keep aquatic animals such as tropical\n",
    "fish and the like which are real creatures, living conditions inherent to the creatures including foods, water\n",
    "temperature, and the like should be maintained and this\n",
    "should accompany labor cost, maintenance cost, and\n",
    "the like. In order to reduce such labor, a display device\n",
    "is proposed in Japan unexamined patent publication\n",
    "Hei7-230259 provided with pseudo models of aquatic\n",
    "animals such as fish models and the like, and by generating the air bubble from a ventilation member which\n",
    "is installed at the bottom wall of a water tank to generate\n",
    "water flow in a water tank and to make viewers feel as\n",
    "if pseudo models of aquatic animals such as fish models\n",
    "are swimming as a pseudo aquarium in which daily feeding is not required and environmental maintenance such\n",
    "as temperature maintenance and the like are easy.\n",
    "However, since the above display device generates water flow in a water tank by directly generating\n",
    "air bubble in the water tank in which pseudo creature\n",
    "models are floating, creature models get an imbalance\n",
    "and behave unnaturally since air bubble adheres to the\n",
    "creature models. In addition, in peripheral domains\n",
    "where air bubble near the air bubble generating member\n",
    "rises, when the creature models go in said domains, the\n",
    "aquatic animal pseudo models are pushed upward near\n",
    "the water surface by air bubble, they show unnatural behavior, lying down. The same is applied when pseudo\n",
    "creature models are replaced by models such as submarines other than fish. In addition, when this water tank\n",
    "for appreciation is made to be a display which expresses\n",
    "a space other than underwater space, for example, cosmic space where spaceships and the like exist, or a\n",
    "space with a motif where birds and butterflies and the\n",
    "like exist, since rising air bubble exists around spaceships, birds, butterflies, and the like, this water tank for\n",
    "appreciation is not suitable for a display which expresses a space other than underwater space.\n",
    "                               The object of the present invention is to provide\n",
    "a water tank for appreciation which does not cause imbalance of models by air bubble adhesion, sudden rising\n",
    "of models in the vicinity of air bubble generating member\n",
    "or lying down in the vicinity of a water surface in order\n",
    "that the models such as creature models represented\n",
    "by fish models, for example, naturally swimming show\n",
    "more natural movement and behavior in the water tank,\n",
    "and further, to provide a water tank for appreciation and\n",
    "a display device for appreciation capable of expressing\n",
    "the space other than underwater space.\n",
    "\n",
    "\n",
    "\n",
    "\"\"\")\n",
    "result = ptf.remove_boilerplate_sentences(result)\n",
    "result = ptf.standardise_references(result)\n",
    "print(result)\n",
    "for s in result:\n",
    "    print(len(s))\n",
    "    if(len(s) < 10):\n",
    "        print(s)"
   ]
  }
 ],
 "metadata": {
  "kernelspec": {
   "display_name": ".venv",
   "language": "python",
   "name": "python3"
  },
  "language_info": {
   "codemirror_mode": {
    "name": "ipython",
    "version": 3
   },
   "file_extension": ".py",
   "mimetype": "text/x-python",
   "name": "python",
   "nbconvert_exporter": "python",
   "pygments_lexer": "ipython3",
   "version": "3.13.5"
  }
 },
 "nbformat": 4,
 "nbformat_minor": 5
}
