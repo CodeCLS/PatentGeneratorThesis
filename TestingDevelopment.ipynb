{
 "cells": [
  {
   "cell_type": "code",
   "execution_count": 47,
   "id": "595d0e14",
   "metadata": {},
   "outputs": [
    {
     "name": "stdout",
     "output_type": "stream",
     "text": [
      "The autoreload extension is already loaded. To reload it, use:\n",
      "  %reload_ext autoreload\n"
     ]
    },
    {
     "data": {
      "text/plain": [
       "<module 'PatentTextFormatter' from 'c:\\\\Users\\\\Caleb\\\\Documents\\\\LLM Patent Claim Generator Thesis\\\\PatentTextFormatter.py'>"
      ]
     },
     "execution_count": 47,
     "metadata": {},
     "output_type": "execute_result"
    }
   ],
   "source": [
    "%load_ext autoreload\n",
    "%autoreload 2\n",
    "import sys, importlib\n",
    "sys.modules.pop('PatentTextFormatter', None)\n",
    "importlib.invalidate_caches()\n",
    "\n",
    "import PatentTextFormatter as PTF   # re-import fresh\n",
    "importlib.reload(PTF)               # ensure reload\n"
   ]
  },
  {
   "cell_type": "code",
   "execution_count": null,
   "id": "78df813c",
   "metadata": {},
   "outputs": [
    {
     "data": {
      "text/plain": [
       "<module 'PatentTextFormatter' from 'c:\\\\Users\\\\Caleb\\\\Documents\\\\LLM Patent Claim Generator Thesis\\\\PatentTextFormatter.py'>"
      ]
     },
     "execution_count": 13,
     "metadata": {},
     "output_type": "execute_result"
    }
   ],
   "source": []
  },
  {
   "cell_type": "code",
   "execution_count": 68,
   "id": "22e35ab1",
   "metadata": {},
   "outputs": [
    {
     "name": "stderr",
     "output_type": "stream",
     "text": [
      "[autoreload of PatentTextFormatter failed: Traceback (most recent call last):\n",
      "  File \"c:\\Users\\Caleb\\Documents\\LLM Patent Claim Generator Thesis\\.venv\\Lib\\site-packages\\IPython\\extensions\\autoreload.py\", line 322, in check\n",
      "    elif self.deduper_reloader.maybe_reload_module(m):\n",
      "         ~~~~~~~~~~~~~~~~~~~~~~~~~~~~~~~~~~~~~~~~~^^^\n",
      "  File \"c:\\Users\\Caleb\\Documents\\LLM Patent Claim Generator Thesis\\.venv\\Lib\\site-packages\\IPython\\extensions\\deduperreload\\deduperreload.py\", line 545, in maybe_reload_module\n",
      "    new_source_code = f.read()\n",
      "  File \"C:\\Users\\Caleb\\AppData\\Local\\Programs\\Python\\Python313\\Lib\\encodings\\cp1252.py\", line 23, in decode\n",
      "    return codecs.charmap_decode(input,self.errors,decoding_table)[0]\n",
      "           ~~~~~~~~~~~~~~~~~~~~~^^^^^^^^^^^^^^^^^^^^^^^^^^^^^^^^^^\n",
      "UnicodeDecodeError: 'charmap' codec can't decode byte 0x9d in position 1052: character maps to <undefined>\n",
      "]\n"
     ]
    },
    {
     "data": {
      "text/plain": [
       "<module 'PatentTextFormatter' from 'c:\\\\Users\\\\Caleb\\\\Documents\\\\LLM Patent Claim Generator Thesis\\\\PatentTextFormatter.py'>"
      ]
     },
     "execution_count": 68,
     "metadata": {},
     "output_type": "execute_result"
    }
   ],
   "source": [
    "import PatentTextFormatter as PTF\n",
    "import importlib\n",
    "\n",
    "import os\n",
    "import re\n",
    "import json\n",
    "from typing import List, Dict, Any\n",
    "import spacy\n",
    "\n",
    "import anthropic\n",
    "from dotenv import load_dotenv\n",
    "from langsmith import traceable, Client as LSClient\n",
    "from langsmith.wrappers import wrap_anthropic\n",
    "from networktest import KnowledgeGraph\n",
    "client = wrap_anthropic(anthropic.Anthropic())\n",
    "nlp = spacy.load(\"en_core_web_sm\")\n",
    "importlib.reload(PTF)\n"
   ]
  },
  {
   "cell_type": "markdown",
   "id": "d37b43e4",
   "metadata": {},
   "source": []
  },
  {
   "cell_type": "code",
   "execution_count": null,
   "id": "fe0d01b2",
   "metadata": {},
   "outputs": [
    {
     "name": "stdout",
     "output_type": "stream",
     "text": [
      "Hello\n",
      "['Hello I am a nice Person living in Berlin.', 'I have nothing todo.', 'I do study at the TU Berlin in Information Systems.', 'Information Systems is a lovely subject for people all over the world.']\n"
     ]
    }
   ],
   "source": [
    "ptf = PTF.PatentTextFormatter(\"Hello I am a nice Person living in Berlin and have nothing todo but I do study at the TU Berlin in Information Systems which is a lovely subject for people all over the world\",nlp,client)\n",
    "print(ptf.shorten_sentences())"
   ]
  },
  {
   "cell_type": "code",
   "execution_count": 70,
   "id": "28ec834c",
   "metadata": {},
   "outputs": [
    {
     "name": "stdout",
     "output_type": "stream",
     "text": [
      "Hello\n",
      "<class 'list'>\n",
      "['A water tank for appreciation is provided with a water storage.', 'A water tank for appreciation is provided with a water pipe.', 'A water tank for appreciation is provided with an air bubble generating member.', 'Said water storage is provided with a water inlet port.', 'Said water storage is provided with an opening portion.', 'Said opening portion is so provided that the convection can be generated in said water tank for appreciation by the liquid current from a water tank through said opening portion.', 'Said water storage is installed upwardly of a water tank for appreciation.', 'One end of said water pipe is connected to an inlet water port of a water storage.', 'The other end of said water pipe is so installed that it is in the liquid when the liquid is filled in a water tank for appreciation.', 'An air bubble generating member is so installed that it can lead the air bubble inside of a water pipe in the peripheral portion of said other end of said water pipe.', 'A display device for appreciation using said water tank for appreciation is used.']\n",
      "63\n",
      "60\n",
      "79\n",
      "55\n",
      "55\n",
      "178\n",
      "74\n",
      "82\n",
      "133\n",
      "166\n",
      "81\n"
     ]
    }
   ],
   "source": [
    "ptf = PTF.PatentTextFormatter(\n",
    "    \"\"\" \n",
    "A water tank for appreciation provided with a\n",
    "water storage, a water pipe, an air bubble generating\n",
    "member, wherein said water storage is provided with a\n",
    "water inlet port and an opening portion and said opening\n",
    "portion is so provided that the convection can be generated in said water tank for appreciation by the liquid\n",
    "current from a water tank through said opening portion,\n",
    "and said water storage is installed upwardly of a water\n",
    "tank for appreciation and one end of said water pipe is\n",
    "connected to an inlet water port of a water storage and\n",
    "the other end is so installed that it is in the liquid when\n",
    "the liquid is filled in a water tank for appreciation and an\n",
    "air bubble generating member is so installed that it can\n",
    "lead the air bubble inside of a water pipe in the peripheral portion of said other end of said water pipe and a\n",
    "display device for appreciation using said water tank for\n",
    "appreciation are used.\n",
    "\n",
    "\n",
    "\n",
    "\"\"\",nlp,client)\n",
    "result = ptf.shorten_sentences()\n",
    "print(type(result))\n",
    "print(result)\n",
    "for s in result:\n",
    "    print(len(s))"
   ]
  }
 ],
 "metadata": {
  "kernelspec": {
   "display_name": ".venv",
   "language": "python",
   "name": "python3"
  },
  "language_info": {
   "codemirror_mode": {
    "name": "ipython",
    "version": 3
   },
   "file_extension": ".py",
   "mimetype": "text/x-python",
   "name": "python",
   "nbconvert_exporter": "python",
   "pygments_lexer": "ipython3",
   "version": "3.13.5"
  }
 },
 "nbformat": 4,
 "nbformat_minor": 5
}
