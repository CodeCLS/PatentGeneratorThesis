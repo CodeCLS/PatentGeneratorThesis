{
 "cells": [
  {
   "cell_type": "code",
   "execution_count": 97,
   "id": "595d0e14",
   "metadata": {},
   "outputs": [
    {
     "name": "stdout",
     "output_type": "stream",
     "text": [
      "The autoreload extension is already loaded. To reload it, use:\n",
      "  %reload_ext autoreload\n"
     ]
    },
    {
     "data": {
      "text/plain": [
       "<module 'PatentTextFormatter' from 'c:\\\\Users\\\\Caleb\\\\Documents\\\\LLM Patent Claim Generator Thesis\\\\PatentTextFormatter.py'>"
      ]
     },
     "execution_count": 97,
     "metadata": {},
     "output_type": "execute_result"
    }
   ],
   "source": [
    "%load_ext autoreload\n",
    "%autoreload 2\n",
    "import sys, importlib\n",
    "sys.modules.pop('PatentTextFormatter', None)\n",
    "importlib.invalidate_caches()\n",
    "\n",
    "import PatentTextFormatter as PTF   # re-import fresh\n",
    "importlib.reload(PTF)               # ensure reload\n"
   ]
  },
  {
   "cell_type": "code",
   "execution_count": null,
   "id": "78df813c",
   "metadata": {},
   "outputs": [
    {
     "data": {
      "text/plain": [
       "<module 'PatentTextFormatter' from 'c:\\\\Users\\\\Caleb\\\\Documents\\\\LLM Patent Claim Generator Thesis\\\\PatentTextFormatter.py'>"
      ]
     },
     "execution_count": 13,
     "metadata": {},
     "output_type": "execute_result"
    }
   ],
   "source": []
  },
  {
   "cell_type": "code",
   "execution_count": 100,
   "id": "22e35ab1",
   "metadata": {},
   "outputs": [
    {
     "data": {
      "text/plain": [
       "<module 'PatentTextFormatter' from 'c:\\\\Users\\\\Caleb\\\\Documents\\\\LLM Patent Claim Generator Thesis\\\\PatentTextFormatter.py'>"
      ]
     },
     "execution_count": 100,
     "metadata": {},
     "output_type": "execute_result"
    }
   ],
   "source": [
    "import PatentTextFormatter as PTF\n",
    "import importlib\n",
    "\n",
    "import os\n",
    "import re\n",
    "import json\n",
    "from typing import List, Dict, Any\n",
    "import spacy\n",
    "\n",
    "import anthropic\n",
    "from dotenv import load_dotenv\n",
    "from langsmith import traceable, Client as LSClient\n",
    "from langsmith.wrappers import wrap_anthropic\n",
    "from networktest import KnowledgeGraph\n",
    "client = wrap_anthropic(anthropic.Anthropic())\n",
    "nlp = spacy.load(\"en_core_web_sm\")\n",
    "importlib.reload(PTF)\n"
   ]
  },
  {
   "cell_type": "markdown",
   "id": "d37b43e4",
   "metadata": {},
   "source": []
  },
  {
   "cell_type": "code",
   "execution_count": null,
   "id": "fe0d01b2",
   "metadata": {},
   "outputs": [
    {
     "name": "stdout",
     "output_type": "stream",
     "text": [
      "Hello\n",
      "['Hello I am a nice Person living in Berlin.', 'I have nothing todo.', 'I do study at the TU Berlin in Information Systems.', 'Information Systems is a lovely subject for people all over the world.']\n"
     ]
    }
   ],
   "source": [
    "ptf = PTF.PatentTextFormatter(\"Hello I am a nice Person living in Berlin and have nothing todo but I do study at the TU Berlin in Information Systems which is a lovely subject for people all over the world\",nlp,client)\n",
    "print(ptf.shorten_sentences())"
   ]
  },
  {
   "cell_type": "code",
   "execution_count": null,
   "id": "28ec834c",
   "metadata": {},
   "outputs": [
    {
     "name": "stdout",
     "output_type": "stream",
     "text": [
      "<class 'list'>\n",
      "['Said water storage is provided with a water inlet port and an opening portion.', 'Said water storage is installed upwardly of a water tank for appreciation.', 'A water tank for appreciation provided with a water storage.', 'A water tank for appreciation provided with a water pipe.', 'A water tank for appreciation provided with an air bubble generating member.', 'The other end is so installed that it is in the liquid.', 'The liquid is filled in a water tank for appreciation.', 'An air bubble generating member is so installed.', 'It can lead the air bubble inside of a water pipe.', 'The water pipe is in the peripheral portion.', 'The peripheral portion is of said other end.', 'Said other end is of said water pipe.', 'The convection is for appreciation by the liquid current.', 'The liquid current is from a water tank.', 'The liquid current flows through said opening portion.', 'Said opening portion is so provided that the convection can be generated in.', 'said water tank.', 'One end of said water pipe is connected to an inlet water port of a water.', 'storage.', 'A display device for appreciation using said water tank for appreciation are.', 'used.']\n",
      "78\n",
      "74\n",
      "60\n",
      "57\n",
      "76\n",
      "55\n",
      "54\n",
      "48\n",
      "50\n",
      "44\n",
      "44\n",
      "37\n",
      "57\n",
      "40\n",
      "54\n",
      "76\n",
      "16\n",
      "74\n",
      "8\n",
      "77\n",
      "5\n"
     ]
    }
   ],
   "source": [
    "ptf = PTF.PatentTextFormatter(\n",
    "    \"\"\" \n",
    "A water tank for appreciation provided with a\n",
    "water storage, a water pipe, an air bubble generating\n",
    "member, wherein said water storage is provided with a\n",
    "water inlet port and an opening portion and said opening\n",
    "portion is so provided that the convection can be generated in said water tank for appreciation by the liquid\n",
    "current from a water tank through said opening portion,\n",
    "and said water storage is installed upwardly of a water\n",
    "tank for appreciation and one end of said water pipe is\n",
    "connected to an inlet water port of a water storage and\n",
    "the other end is so installed that it is in the liquid when\n",
    "the liquid is filled in a water tank for appreciation and an\n",
    "air bubble generating member is so installed that it can\n",
    "lead the air bubble inside of a water pipe in the peripheral portion of said other end of said water pipe and a\n",
    "display device for appreciation using said water tank for\n",
    "appreciation are used. \n",
    "\n",
    "\n",
    "\n",
    "\"\"\",nlp,client)\n",
    "result = ptf.shorten_sentences()\n",
    "print(result)\n",
    "for s in result:\n",
    "    print(len(s))\n",
    "    if(len(s) < 10):\n",
    "        print(s)"
   ]
  }
 ],
 "metadata": {
  "kernelspec": {
   "display_name": ".venv",
   "language": "python",
   "name": "python3"
  },
  "language_info": {
   "codemirror_mode": {
    "name": "ipython",
    "version": 3
   },
   "file_extension": ".py",
   "mimetype": "text/x-python",
   "name": "python",
   "nbconvert_exporter": "python",
   "pygments_lexer": "ipython3",
   "version": "3.13.5"
  }
 },
 "nbformat": 4,
 "nbformat_minor": 5
}
